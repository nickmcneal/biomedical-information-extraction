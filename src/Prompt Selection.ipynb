{
 "cells": [
  {
   "cell_type": "code",
   "execution_count": 62,
   "metadata": {},
   "outputs": [],
   "source": [
    "import pickle\n",
    "import pandas as pd\n",
    "import os\n",
    "import openai\n",
    "import numpy as np\n",
    "import ipdb\n",
    "import re\n",
    "from tqdm import tqdm\n",
    "\n",
    "from transformers import GPT2Tokenizer\n",
    "tokenizer = GPT2Tokenizer.from_pretrained(\"gpt2\")\n",
    "import spacy\n",
    "import scipy\n",
    "\n",
    "nlp = spacy.load(\"en_core_web_sm\")\n",
    "openai.api_key= os.environ['OPENAI_KEY']\n",
    "\n",
    "from data_utils import *\n",
    "from gpt3_utils import *\n",
    "from eval_utils import *\n",
    "\n",
    "pd.set_option('max_rows',500,'max_colwidth',10000)\n",
    "pd.options.display.float_format = \"{:,.2f}\".format"
   ]
  },
  {
   "cell_type": "code",
   "execution_count": 4,
   "metadata": {},
   "outputs": [],
   "source": [
    "#Loading BC5CDR Chemical and Disease Training Sets\n",
    "\n",
    "chemical_train = pd.read_csv('../data/bc5cdr_chemical.train.processed.tsv',sep='\\t')\n",
    "disease_train = pd.read_csv('../data/bc5cdr_disease.train.processed.tsv',sep='\\t')"
   ]
  },
  {
   "cell_type": "code",
   "execution_count": 5,
   "metadata": {},
   "outputs": [
    {
     "name": "stderr",
     "output_type": "stream",
     "text": [
      "/home/jimenezgutierrez.1/biomedical-information-extraction/src/data_utils.py:14: SettingWithCopyWarning: \n",
      "A value is trying to be set on a copy of a slice from a DataFrame.\n",
      "Try using .loc[row_indexer,col_indexer] = value instead\n",
      "\n",
      "See the caveats in the documentation: https://pandas.pydata.org/pandas-docs/stable/user_guide/indexing.html#returning-a-view-versus-a-copy\n",
      "  test_df['test_ready_prompt'] = [few_shot_prompt+'\\n\\n'+empty_prompt for empty_prompt in test_df['empty_prompts']]\n"
     ]
    }
   ],
   "source": [
    "train_half1 = disease_train[0:int(len(disease_train)/2)]\n",
    "train_half2 = disease_train[int(len(disease_train)/2):]"
   ]
  },
  {
   "cell_type": "code",
   "execution_count": null,
   "metadata": {},
   "outputs": [],
   "source": [
    "def create_prompt_dataset_stratified(train_df, test_df, seed, few_shot_num, number_of_test_samples, selection_strategy,sep=', '):\n",
    "    \n",
    "    random = np.random.RandomState(seed)\n",
    "    \n",
    "    few_shot_prompt, chosen_prompt_ids = create_few_shot_prompt(train_df, random, few_shot_num, selection_strategy)\n",
    "    \n",
    "    test_df['test_ready_prompt'] = [few_shot_prompt+'\\n\\n'+empty_prompt for empty_prompt in test_df['empty_prompts']]\n",
    "    \n",
    "    if number_of_test_samples != 'all':\n",
    "        #Making sure the samples are the same as the first batch\n",
    "        random = np.random.RandomState(42)\n",
    "        random.permutation(train_df.index)\n",
    "        chosen_test_ids = random.permutation(test_df.index)[:number_of_test_samples]\n",
    "        \n",
    "        chosen_test_df = test_df.loc[chosen_test_ids]\n",
    "    else:\n",
    "        chosen_test_df = test_df\n",
    "    \n",
    "    return {'seed':seed,'few_shot_prompt': few_shot_prompt, 'chosen_prompt_ids':chosen_prompt_ids,'sep': sep,'test_df': chosen_test_df}"
   ]
  },
  {
   "cell_type": "code",
   "execution_count": 30,
   "metadata": {},
   "outputs": [],
   "source": [
    "def test_prompt_selection(engine, train_df, eval_df, few_shot_seeds, dev_set_seeds, few_shot_size=5, eval_size=50):\n",
    "\n",
    "    result_by_seeds = []\n",
    "    result_dfs_by_seeds = {}\n",
    "\n",
    "    for few_shot_seed in few_shot_seeds:\n",
    "        \n",
    "        for dev_set_seed in dev_set_seeds:\n",
    "            \n",
    "            if dev_set_seed > 0:\n",
    "                permuted_eval_df = eval_df.sample(frac=1, random_state=np.random.RandomState(dev_set_seed))\n",
    "            else:\n",
    "                permuted_eval_df = eval_df\n",
    "                \n",
    "            dev_data = create_prompt_dataset(train_df, permuted_eval_df, few_shot_seed, few_shot_size, eval_size, 'random')\n",
    "            dev_df = dev_data['test_df']\n",
    "            prompts = dev_df.test_ready_prompt.values\n",
    "\n",
    "            result_df = run_gpt3_on_df(engine, dev_df, prompts, max_tokens=30, sep=dev_data['sep'], logit_bias=10, sep_logit_bias=10, new_line_logit_bias=10)\n",
    "\n",
    "            df = create_bio_preds(result_df, \"predictions\")\n",
    "            f1, precision, recall = conlleval_eval(df.ner_seq,df.bio_preds)\n",
    "\n",
    "            result_by_seeds.append((few_shot_seed, dev_set_seed, f1, precision, recall, prompts[0]))\n",
    "            result_dfs_by_seeds[(few_shot_seed, dev_set_seed)] = result_df\n",
    "        \n",
    "    return pd.DataFrame(result_by_seeds, columns=[\"few_shot_seed\", \"dev_set_seed\", \"f1\", \"precision\", \"recall\", \"prompt\"]), result_dfs_by_seeds"
   ]
  },
  {
   "cell_type": "code",
   "execution_count": 33,
   "metadata": {},
   "outputs": [
    {
     "name": "stderr",
     "output_type": "stream",
     "text": [
      "/home/jimenezgutierrez.1/biomedical-information-extraction/src/data_utils.py:14: SettingWithCopyWarning: \n",
      "A value is trying to be set on a copy of a slice from a DataFrame.\n",
      "Try using .loc[row_indexer,col_indexer] = value instead\n",
      "\n",
      "See the caveats in the documentation: https://pandas.pydata.org/pandas-docs/stable/user_guide/indexing.html#returning-a-view-versus-a-copy\n",
      "  test_df['test_ready_prompt'] = [few_shot_prompt+'\\n\\n'+empty_prompt for empty_prompt in test_df['empty_prompts']]\n",
      "50it [00:19,  2.59it/s]\n",
      "0it [00:00, ?it/s]"
     ]
    },
    {
     "name": "stdout",
     "output_type": "stream",
     "text": [
      "processed 1125 tokens with 37 phrases; found: 32 phrases; correct: 18.\n",
      "accuracy:  95.73%; (non-O)\n",
      "accuracy:  95.73%; precision:  56.25%; recall:  48.65%; FB1:  52.17%\n",
      "                X: precision:  56.25%; recall:  48.65%; FB1:  52.17%  32\n"
     ]
    },
    {
     "name": "stderr",
     "output_type": "stream",
     "text": [
      "50it [00:21,  2.35it/s]\n",
      "0it [00:00, ?it/s]"
     ]
    },
    {
     "name": "stdout",
     "output_type": "stream",
     "text": [
      "processed 1470 tokens with 57 phrases; found: 47 phrases; correct: 23.\n",
      "accuracy:  93.40%; (non-O)\n",
      "accuracy:  93.40%; precision:  48.94%; recall:  40.35%; FB1:  44.23%\n",
      "                X: precision:  48.94%; recall:  40.35%; FB1:  44.23%  47\n"
     ]
    },
    {
     "name": "stderr",
     "output_type": "stream",
     "text": [
      "50it [00:23,  2.14it/s]\n",
      "0it [00:00, ?it/s]"
     ]
    },
    {
     "name": "stdout",
     "output_type": "stream",
     "text": [
      "processed 1125 tokens with 37 phrases; found: 43 phrases; correct: 26.\n",
      "accuracy:  96.27%; (non-O)\n",
      "accuracy:  96.27%; precision:  60.47%; recall:  70.27%; FB1:  65.00%\n",
      "                X: precision:  60.47%; recall:  70.27%; FB1:  65.00%  43\n"
     ]
    },
    {
     "name": "stderr",
     "output_type": "stream",
     "text": [
      "50it [00:22,  2.21it/s]\n",
      "0it [00:00, ?it/s]"
     ]
    },
    {
     "name": "stdout",
     "output_type": "stream",
     "text": [
      "processed 1470 tokens with 57 phrases; found: 58 phrases; correct: 25.\n",
      "accuracy:  93.88%; (non-O)\n",
      "accuracy:  93.88%; precision:  43.10%; recall:  43.86%; FB1:  43.48%\n",
      "                X: precision:  43.10%; recall:  43.86%; FB1:  43.48%  58\n"
     ]
    },
    {
     "name": "stderr",
     "output_type": "stream",
     "text": [
      "50it [00:20,  2.44it/s]\n",
      "0it [00:00, ?it/s]"
     ]
    },
    {
     "name": "stdout",
     "output_type": "stream",
     "text": [
      "processed 1125 tokens with 37 phrases; found: 38 phrases; correct: 20.\n",
      "accuracy:  95.91%; (non-O)\n",
      "accuracy:  95.91%; precision:  52.63%; recall:  54.05%; FB1:  53.33%\n",
      "                X: precision:  52.63%; recall:  54.05%; FB1:  53.33%  38\n"
     ]
    },
    {
     "name": "stderr",
     "output_type": "stream",
     "text": [
      "50it [00:20,  2.49it/s]\n",
      "0it [00:00, ?it/s]"
     ]
    },
    {
     "name": "stdout",
     "output_type": "stream",
     "text": [
      "processed 1470 tokens with 57 phrases; found: 43 phrases; correct: 20.\n",
      "accuracy:  93.33%; (non-O)\n",
      "accuracy:  93.33%; precision:  46.51%; recall:  35.09%; FB1:  40.00%\n",
      "                X: precision:  46.51%; recall:  35.09%; FB1:  40.00%  43\n"
     ]
    },
    {
     "name": "stderr",
     "output_type": "stream",
     "text": [
      "50it [00:20,  2.45it/s]\n",
      "0it [00:00, ?it/s]"
     ]
    },
    {
     "name": "stdout",
     "output_type": "stream",
     "text": [
      "processed 1125 tokens with 37 phrases; found: 26 phrases; correct: 19.\n",
      "accuracy:  96.62%; (non-O)\n",
      "accuracy:  96.62%; precision:  73.08%; recall:  51.35%; FB1:  60.32%\n",
      "                X: precision:  73.08%; recall:  51.35%; FB1:  60.32%  26\n"
     ]
    },
    {
     "name": "stderr",
     "output_type": "stream",
     "text": [
      "50it [00:19,  2.51it/s]"
     ]
    },
    {
     "name": "stdout",
     "output_type": "stream",
     "text": [
      "processed 1470 tokens with 57 phrases; found: 35 phrases; correct: 24.\n",
      "accuracy:  94.69%; (non-O)\n",
      "accuracy:  94.69%; precision:  68.57%; recall:  42.11%; FB1:  52.17%\n",
      "                X: precision:  68.57%; recall:  42.11%; FB1:  52.17%  35\n"
     ]
    },
    {
     "name": "stderr",
     "output_type": "stream",
     "text": [
      "\n"
     ]
    }
   ],
   "source": [
    "disease_performance_by_prompt_sel, disease_results_by_prompt_sel = test_prompt_selection('davinci',\n",
    "                                                                                         train_half1, \n",
    "                                                                                         train_half2, \n",
    "                                                                                         [0,2,4,6],\n",
    "                                                                                         [0,1])"
   ]
  },
  {
   "cell_type": "code",
   "execution_count": 36,
   "metadata": {},
   "outputs": [
    {
     "data": {
      "text/html": [
       "<div>\n",
       "<style scoped>\n",
       "    .dataframe tbody tr th:only-of-type {\n",
       "        vertical-align: middle;\n",
       "    }\n",
       "\n",
       "    .dataframe tbody tr th {\n",
       "        vertical-align: top;\n",
       "    }\n",
       "\n",
       "    .dataframe thead th {\n",
       "        text-align: right;\n",
       "    }\n",
       "</style>\n",
       "<table border=\"1\" class=\"dataframe\">\n",
       "  <thead>\n",
       "    <tr style=\"text-align: right;\">\n",
       "      <th></th>\n",
       "      <th>few_shot_seed</th>\n",
       "      <th>dev_set_seed</th>\n",
       "      <th>f1</th>\n",
       "      <th>precision</th>\n",
       "      <th>recall</th>\n",
       "    </tr>\n",
       "  </thead>\n",
       "  <tbody>\n",
       "    <tr>\n",
       "      <th>2</th>\n",
       "      <td>2</td>\n",
       "      <td>0</td>\n",
       "      <td>65.000000</td>\n",
       "      <td>60.465116</td>\n",
       "      <td>70.270270</td>\n",
       "    </tr>\n",
       "    <tr>\n",
       "      <th>6</th>\n",
       "      <td>6</td>\n",
       "      <td>0</td>\n",
       "      <td>60.317460</td>\n",
       "      <td>73.076923</td>\n",
       "      <td>51.351351</td>\n",
       "    </tr>\n",
       "    <tr>\n",
       "      <th>4</th>\n",
       "      <td>4</td>\n",
       "      <td>0</td>\n",
       "      <td>53.333333</td>\n",
       "      <td>52.631579</td>\n",
       "      <td>54.054054</td>\n",
       "    </tr>\n",
       "    <tr>\n",
       "      <th>0</th>\n",
       "      <td>0</td>\n",
       "      <td>0</td>\n",
       "      <td>52.173913</td>\n",
       "      <td>56.250000</td>\n",
       "      <td>48.648649</td>\n",
       "    </tr>\n",
       "    <tr>\n",
       "      <th>7</th>\n",
       "      <td>6</td>\n",
       "      <td>1</td>\n",
       "      <td>52.173913</td>\n",
       "      <td>68.571429</td>\n",
       "      <td>42.105263</td>\n",
       "    </tr>\n",
       "    <tr>\n",
       "      <th>1</th>\n",
       "      <td>0</td>\n",
       "      <td>1</td>\n",
       "      <td>44.230769</td>\n",
       "      <td>48.936170</td>\n",
       "      <td>40.350877</td>\n",
       "    </tr>\n",
       "    <tr>\n",
       "      <th>3</th>\n",
       "      <td>2</td>\n",
       "      <td>1</td>\n",
       "      <td>43.478261</td>\n",
       "      <td>43.103448</td>\n",
       "      <td>43.859649</td>\n",
       "    </tr>\n",
       "    <tr>\n",
       "      <th>5</th>\n",
       "      <td>4</td>\n",
       "      <td>1</td>\n",
       "      <td>40.000000</td>\n",
       "      <td>46.511628</td>\n",
       "      <td>35.087719</td>\n",
       "    </tr>\n",
       "  </tbody>\n",
       "</table>\n",
       "</div>"
      ],
      "text/plain": [
       "   few_shot_seed  dev_set_seed         f1  precision     recall\n",
       "2              2             0  65.000000  60.465116  70.270270\n",
       "6              6             0  60.317460  73.076923  51.351351\n",
       "4              4             0  53.333333  52.631579  54.054054\n",
       "0              0             0  52.173913  56.250000  48.648649\n",
       "7              6             1  52.173913  68.571429  42.105263\n",
       "1              0             1  44.230769  48.936170  40.350877\n",
       "3              2             1  43.478261  43.103448  43.859649\n",
       "5              4             1  40.000000  46.511628  35.087719"
      ]
     },
     "execution_count": 36,
     "metadata": {},
     "output_type": "execute_result"
    }
   ],
   "source": [
    "disease_performance_by_prompt_sel.sort_values('f1',ascending=False)[[\"few_shot_seed\", \"dev_set_seed\", \"f1\", \"precision\", \"recall\"]]"
   ]
  },
  {
   "cell_type": "code",
   "execution_count": 70,
   "metadata": {},
   "outputs": [
    {
     "data": {
      "text/html": [
       "<div>\n",
       "<style scoped>\n",
       "    .dataframe tbody tr th:only-of-type {\n",
       "        vertical-align: middle;\n",
       "    }\n",
       "\n",
       "    .dataframe tbody tr th {\n",
       "        vertical-align: top;\n",
       "    }\n",
       "\n",
       "    .dataframe thead tr th {\n",
       "        text-align: left;\n",
       "    }\n",
       "\n",
       "    .dataframe thead tr:last-of-type th {\n",
       "        text-align: right;\n",
       "    }\n",
       "</style>\n",
       "<table border=\"1\" class=\"dataframe\">\n",
       "  <thead>\n",
       "    <tr>\n",
       "      <th></th>\n",
       "      <th colspan=\"2\" halign=\"left\">dev_set_seed</th>\n",
       "      <th colspan=\"2\" halign=\"left\">f1</th>\n",
       "      <th colspan=\"2\" halign=\"left\">precision</th>\n",
       "      <th colspan=\"2\" halign=\"left\">recall</th>\n",
       "    </tr>\n",
       "    <tr>\n",
       "      <th></th>\n",
       "      <th>std</th>\n",
       "      <th>mean</th>\n",
       "      <th>std</th>\n",
       "      <th>mean</th>\n",
       "      <th>std</th>\n",
       "      <th>mean</th>\n",
       "      <th>std</th>\n",
       "      <th>mean</th>\n",
       "    </tr>\n",
       "    <tr>\n",
       "      <th>few_shot_seed</th>\n",
       "      <th></th>\n",
       "      <th></th>\n",
       "      <th></th>\n",
       "      <th></th>\n",
       "      <th></th>\n",
       "      <th></th>\n",
       "      <th></th>\n",
       "      <th></th>\n",
       "    </tr>\n",
       "  </thead>\n",
       "  <tbody>\n",
       "    <tr>\n",
       "      <th>6</th>\n",
       "      <td>0.71</td>\n",
       "      <td>0.50</td>\n",
       "      <td>5.76</td>\n",
       "      <td>56.25</td>\n",
       "      <td>3.19</td>\n",
       "      <td>70.82</td>\n",
       "      <td>6.54</td>\n",
       "      <td>46.73</td>\n",
       "    </tr>\n",
       "    <tr>\n",
       "      <th>2</th>\n",
       "      <td>0.71</td>\n",
       "      <td>0.50</td>\n",
       "      <td>15.22</td>\n",
       "      <td>54.24</td>\n",
       "      <td>12.28</td>\n",
       "      <td>51.78</td>\n",
       "      <td>18.68</td>\n",
       "      <td>57.06</td>\n",
       "    </tr>\n",
       "    <tr>\n",
       "      <th>0</th>\n",
       "      <td>0.71</td>\n",
       "      <td>0.50</td>\n",
       "      <td>5.62</td>\n",
       "      <td>48.20</td>\n",
       "      <td>5.17</td>\n",
       "      <td>52.59</td>\n",
       "      <td>5.87</td>\n",
       "      <td>44.50</td>\n",
       "    </tr>\n",
       "    <tr>\n",
       "      <th>4</th>\n",
       "      <td>0.71</td>\n",
       "      <td>0.50</td>\n",
       "      <td>9.43</td>\n",
       "      <td>46.67</td>\n",
       "      <td>4.33</td>\n",
       "      <td>49.57</td>\n",
       "      <td>13.41</td>\n",
       "      <td>44.57</td>\n",
       "    </tr>\n",
       "  </tbody>\n",
       "</table>\n",
       "</div>"
      ],
      "text/plain": [
       "              dev_set_seed         f1       precision       recall      \n",
       "                       std mean   std  mean       std  mean    std  mean\n",
       "few_shot_seed                                                           \n",
       "6                     0.71 0.50  5.76 56.25      3.19 70.82   6.54 46.73\n",
       "2                     0.71 0.50 15.22 54.24     12.28 51.78  18.68 57.06\n",
       "0                     0.71 0.50  5.62 48.20      5.17 52.59   5.87 44.50\n",
       "4                     0.71 0.50  9.43 46.67      4.33 49.57  13.41 44.57"
      ]
     },
     "execution_count": 70,
     "metadata": {},
     "output_type": "execute_result"
    }
   ],
   "source": [
    "disease_performance_by_prompt_sel.groupby('few_shot_seed').agg({'mean','std'}).sort_values(('f1','mean'),ascending=False)"
   ]
  },
  {
   "cell_type": "code",
   "execution_count": 59,
   "metadata": {},
   "outputs": [
    {
     "name": "stdout",
     "output_type": "stream",
     "text": [
      "Sentence: Desferrioxamine withdrawal resulted in a complete recovery of visual function in 1 patient and partial recovery in 3 , and a complete reversal of hearing loss in 3 patients and partial recovery in 3 .\n",
      "Diseases: hearing loss\n",
      "\n",
      "Sentence: The block was successful and surgery was conducted as scheduled despite persisting atrial fibrillation .\n",
      "Diseases: atrial fibrillation\n",
      "\n",
      "Sentence: An objective causality assessment revealed that the adverse drug event was probably related to the use of ticlopidine .\n",
      "Diseases: \n",
      "\n",
      "Sentence: CONCLUSION : ATT - ALF constituted 5 . 7 % of ALF at our center and had a high mortality rate .\n",
      "Diseases: alf\n",
      "\n",
      "Sentence: A policy of unrestricted prescription of appetite suppressants may lead to a high incidence of associated primary pulmonary hypertension .\n",
      "Diseases: primary pulmonary hypertension\n",
      "\n",
      "Sentence: METHODS : We present the first case report of a woman with hyperthyroidism treated with propylthiouracil in whom a syndrome of pericarditis , fever , and glomerulonephritis developed .\n",
      "Diseases:\n"
     ]
    }
   ],
   "source": [
    "print(disease_results_by_prompt_sel[(4,1)].test_ready_prompt.values[0])"
   ]
  },
  {
   "cell_type": "code",
   "execution_count": 40,
   "metadata": {},
   "outputs": [
    {
     "name": "stdout",
     "output_type": "stream",
     "text": [
      "Sentence: We present a 43 - year - old man who developed a coronary aneurysm in the right coronary artery 6 months after receiving a paclitaxel - eluting stent .\n",
      "Diseases: coronary aneurysm\n",
      "\n",
      "Sentence: In 44 ( 62 . 8 % ) patients , ATT was prescribed empirically without definitive evidence of tuberculosis .\n",
      "Diseases: tuberculosis\n",
      "\n",
      "Sentence: The aim of the present study was to investigate changes in the plasma calcitonin gene - related peptide ( CGRP ) concentration and platelet serotonin ( 5 - hydroxytriptamine , 5 - HT ) content during the immediate headache and the delayed genuine migraine attack provoked by nitroglycerin .\n",
      "Diseases: headache, migraine\n",
      "\n",
      "Sentence: Heparan sulphate - associated anionic sites in the glomerular basement membrane were studied in rats 8 months after induction of diabetes by streptozotocin and in age - adn sex - matched control rats , employing the cationic dye cuprolinic blue .\n",
      "Diseases: diabetes\n",
      "\n",
      "Sentence: EBFF did not change during PGE1 infusion whereas in the TMP group , EBF decreased significantly at 30 and 60 min after the start of TMP ( preinfusion : 45 . 9 + / - 13 . 9 ml / 100g / min .\n",
      "Diseases: \n",
      "\n",
      "Sentence: METHODS : We present the first case report of a woman with hyperthyroidism treated with propylthiouracil in whom a syndrome of pericarditis , fever , and glomerulonephritis developed .\n",
      "Diseases:\n"
     ]
    }
   ],
   "source": [
    "print(disease_results_by_prompt_sel[(2,1)].test_ready_prompt.values[0])"
   ]
  },
  {
   "cell_type": "code",
   "execution_count": 39,
   "metadata": {},
   "outputs": [
    {
     "name": "stdout",
     "output_type": "stream",
     "text": [
      "Sentence: In recent years working memory deficits have been reported in users of MDMA ( 3 , 4 - methylenedioxymethamphetamine , ecstasy ) .\n",
      "Diseases: memory deficits\n",
      "\n",
      "Sentence: Molecularly , ANF mRNA increased 250 % and SERCA2 mRNA decreased 57 % .\n",
      "Diseases: \n",
      "\n",
      "Sentence: Since nonsteroidal anti - inflammatory agents interfere with this compensatory mechanism and may cause acute renal failure , they should be used with caution in such patients .\n",
      "Diseases: acute renal failure\n",
      "\n",
      "Sentence: In conclusion , CNS complications are frequent events during ALL therapy , and require rapid detection and prompt treatment to limit permanent damage .\n",
      "Diseases: all\n",
      "\n",
      "Sentence: The relative amounts of alphaENaC , betaENaC and gammaENaC mRNAs were determined in kidneys from these rats by real - time quantitative TaqMan PCR , and the amounts of proteins by Western blot .\n",
      "Diseases: \n",
      "\n",
      "Sentence: The site of common side effects of sumatriptan .\n",
      "Diseases:\n"
     ]
    }
   ],
   "source": [
    "print(disease_results_by_prompt_sel[(0,0)].test_ready_prompt.values[0])"
   ]
  },
  {
   "cell_type": "code",
   "execution_count": 58,
   "metadata": {},
   "outputs": [
    {
     "name": "stdout",
     "output_type": "stream",
     "text": [
      "Sentence: Furthermore , the effects are mediated through dopamine rather than norepinephrine and do not require the carotid sinus baroreceptors .\n",
      "Diseases: \n",
      "\n",
      "Sentence: Amiloride reduced the drinking and urine volume of rats in an acute ( 6 or 12 h ) and a subacute ( 3 days ) experiment .\n",
      "Diseases: \n",
      "\n",
      "Sentence: An electroencephalogram showed continuous , generalized irregular slowing with admixed periodic triphasic waves indicating symptomatic encephalopathy .\n",
      "Diseases: encephalopathy\n",
      "\n",
      "Sentence: Whatever was the dose , the central administration of U - II had no effect on body temperature , nociception , apomorphine - induced penile erection and climbing behavior , and stress - induced plasma corticosterone level .\n",
      "Diseases: penile erection\n",
      "\n",
      "Sentence: Most of these patients had more than two metastatic sites , with lung metastasis predominant .\n",
      "Diseases: \n",
      "\n",
      "Sentence: The site of common side effects of sumatriptan .\n",
      "Diseases:\n"
     ]
    }
   ],
   "source": [
    "print(disease_results_by_prompt_sel[(6,0)].test_ready_prompt.values[0])"
   ]
  },
  {
   "cell_type": "code",
   "execution_count": 47,
   "metadata": {},
   "outputs": [
    {
     "name": "stdout",
     "output_type": "stream",
     "text": [
      "processed 1125 tokens with 55 phrases; found: 43 phrases; correct: 25.\n",
      "accuracy:  95.73%; (non-O)\n",
      "accuracy:  95.73%; precision:  58.14%; recall:  45.45%; FB1:  51.02%\n",
      "                X: precision:  58.14%; recall:  45.45%; FB1:  51.02%  43\n",
      "processed 1470 tokens with 103 phrases; found: 79 phrases; correct: 44.\n",
      "accuracy:  93.61%; (non-O)\n",
      "accuracy:  93.61%; precision:  55.70%; recall:  42.72%; FB1:  48.35%\n",
      "                X: precision:  55.70%; recall:  42.72%; FB1:  48.35%  79\n",
      "processed 1125 tokens with 55 phrases; found: 58 phrases; correct: 36.\n",
      "accuracy:  96.36%; (non-O)\n",
      "accuracy:  96.36%; precision:  62.07%; recall:  65.45%; FB1:  63.72%\n",
      "                X: precision:  62.07%; recall:  65.45%; FB1:  63.72%  58\n",
      "processed 1470 tokens with 103 phrases; found: 93 phrases; correct: 56.\n",
      "accuracy:  94.29%; (non-O)\n",
      "accuracy:  94.29%; precision:  60.22%; recall:  54.37%; FB1:  57.14%\n",
      "                X: precision:  60.22%; recall:  54.37%; FB1:  57.14%  93\n",
      "processed 1125 tokens with 55 phrases; found: 52 phrases; correct: 31.\n",
      "accuracy:  96.00%; (non-O)\n",
      "accuracy:  96.00%; precision:  59.62%; recall:  56.36%; FB1:  57.94%\n",
      "                X: precision:  59.62%; recall:  56.36%; FB1:  57.94%  52\n",
      "processed 1470 tokens with 103 phrases; found: 64 phrases; correct: 35.\n",
      "accuracy:  93.40%; (non-O)\n",
      "accuracy:  93.40%; precision:  54.69%; recall:  33.98%; FB1:  41.92%\n",
      "                X: precision:  54.69%; recall:  33.98%; FB1:  41.92%  64\n",
      "processed 1125 tokens with 55 phrases; found: 33 phrases; correct: 25.\n",
      "accuracy:  96.62%; (non-O)\n",
      "accuracy:  96.62%; precision:  75.76%; recall:  45.45%; FB1:  56.82%\n",
      "                X: precision:  75.76%; recall:  45.45%; FB1:  56.82%  33\n",
      "processed 1470 tokens with 103 phrases; found: 56 phrases; correct: 41.\n",
      "accuracy:  94.76%; (non-O)\n",
      "accuracy:  94.76%; precision:  73.21%; recall:  39.81%; FB1:  51.57%\n",
      "                X: precision:  73.21%; recall:  39.81%; FB1:  51.57%  56\n"
     ]
    }
   ],
   "source": [
    "result_by_seeds = []\n",
    "\n",
    "for s1,s2 in disease_results_by_prompt_sel.keys(): \n",
    "    result_df = disease_results_by_prompt_sel[(s1,s2)]\n",
    "    \n",
    "    df = create_bio_preds(result_df, \"predictions\")\n",
    "    b_true = [s.replace('I','B') for s in df.ner_seq]\n",
    "    b_pred = [s.replace('I','B') for s in df.bio_preds]\n",
    "    \n",
    "    f1, precision, recall = conlleval_eval(b_true,b_pred)\n",
    "\n",
    "    result_by_seeds.append((s1, s2, f1, precision, recall))"
   ]
  },
  {
   "cell_type": "code",
   "execution_count": 52,
   "metadata": {},
   "outputs": [],
   "source": [
    "result_by_seeds = pd.DataFrame(result_by_seeds).sort_values(2)"
   ]
  },
  {
   "cell_type": "code",
   "execution_count": 71,
   "metadata": {},
   "outputs": [
    {
     "data": {
      "text/html": [
       "<div>\n",
       "<style scoped>\n",
       "    .dataframe tbody tr th:only-of-type {\n",
       "        vertical-align: middle;\n",
       "    }\n",
       "\n",
       "    .dataframe tbody tr th {\n",
       "        vertical-align: top;\n",
       "    }\n",
       "\n",
       "    .dataframe thead tr th {\n",
       "        text-align: left;\n",
       "    }\n",
       "\n",
       "    .dataframe thead tr:last-of-type th {\n",
       "        text-align: right;\n",
       "    }\n",
       "</style>\n",
       "<table border=\"1\" class=\"dataframe\">\n",
       "  <thead>\n",
       "    <tr>\n",
       "      <th></th>\n",
       "      <th colspan=\"2\" halign=\"left\">1</th>\n",
       "      <th colspan=\"2\" halign=\"left\">2</th>\n",
       "      <th colspan=\"2\" halign=\"left\">3</th>\n",
       "      <th colspan=\"2\" halign=\"left\">4</th>\n",
       "    </tr>\n",
       "    <tr>\n",
       "      <th></th>\n",
       "      <th>std</th>\n",
       "      <th>mean</th>\n",
       "      <th>std</th>\n",
       "      <th>mean</th>\n",
       "      <th>std</th>\n",
       "      <th>mean</th>\n",
       "      <th>std</th>\n",
       "      <th>mean</th>\n",
       "    </tr>\n",
       "    <tr>\n",
       "      <th>0</th>\n",
       "      <th></th>\n",
       "      <th></th>\n",
       "      <th></th>\n",
       "      <th></th>\n",
       "      <th></th>\n",
       "      <th></th>\n",
       "      <th></th>\n",
       "      <th></th>\n",
       "    </tr>\n",
       "  </thead>\n",
       "  <tbody>\n",
       "    <tr>\n",
       "      <th>2</th>\n",
       "      <td>0.71</td>\n",
       "      <td>0.50</td>\n",
       "      <td>4.65</td>\n",
       "      <td>60.43</td>\n",
       "      <td>1.31</td>\n",
       "      <td>61.14</td>\n",
       "      <td>7.84</td>\n",
       "      <td>59.91</td>\n",
       "    </tr>\n",
       "    <tr>\n",
       "      <th>6</th>\n",
       "      <td>0.71</td>\n",
       "      <td>0.50</td>\n",
       "      <td>3.71</td>\n",
       "      <td>54.20</td>\n",
       "      <td>1.80</td>\n",
       "      <td>74.49</td>\n",
       "      <td>3.99</td>\n",
       "      <td>42.63</td>\n",
       "    </tr>\n",
       "    <tr>\n",
       "      <th>4</th>\n",
       "      <td>0.71</td>\n",
       "      <td>0.50</td>\n",
       "      <td>11.33</td>\n",
       "      <td>49.93</td>\n",
       "      <td>3.48</td>\n",
       "      <td>57.15</td>\n",
       "      <td>15.83</td>\n",
       "      <td>45.17</td>\n",
       "    </tr>\n",
       "    <tr>\n",
       "      <th>0</th>\n",
       "      <td>0.71</td>\n",
       "      <td>0.50</td>\n",
       "      <td>1.89</td>\n",
       "      <td>49.69</td>\n",
       "      <td>1.73</td>\n",
       "      <td>56.92</td>\n",
       "      <td>1.93</td>\n",
       "      <td>44.09</td>\n",
       "    </tr>\n",
       "  </tbody>\n",
       "</table>\n",
       "</div>"
      ],
      "text/plain": [
       "     1          2          3           4      \n",
       "   std mean   std  mean  std  mean   std  mean\n",
       "0                                             \n",
       "2 0.71 0.50  4.65 60.43 1.31 61.14  7.84 59.91\n",
       "6 0.71 0.50  3.71 54.20 1.80 74.49  3.99 42.63\n",
       "4 0.71 0.50 11.33 49.93 3.48 57.15 15.83 45.17\n",
       "0 0.71 0.50  1.89 49.69 1.73 56.92  1.93 44.09"
      ]
     },
     "execution_count": 71,
     "metadata": {},
     "output_type": "execute_result"
    }
   ],
   "source": [
    "result_by_seeds.groupby(0).agg({'mean','std'}).sort_values((2,'mean'),ascending=False)"
   ]
  },
  {
   "cell_type": "code",
   "execution_count": 56,
   "metadata": {},
   "outputs": [
    {
     "data": {
      "text/html": [
       "<div>\n",
       "<style scoped>\n",
       "    .dataframe tbody tr th:only-of-type {\n",
       "        vertical-align: middle;\n",
       "    }\n",
       "\n",
       "    .dataframe tbody tr th {\n",
       "        vertical-align: top;\n",
       "    }\n",
       "\n",
       "    .dataframe thead th {\n",
       "        text-align: right;\n",
       "    }\n",
       "</style>\n",
       "<table border=\"1\" class=\"dataframe\">\n",
       "  <thead>\n",
       "    <tr style=\"text-align: right;\">\n",
       "      <th></th>\n",
       "      <th>0</th>\n",
       "      <th>1</th>\n",
       "      <th>2</th>\n",
       "      <th>3</th>\n",
       "      <th>4</th>\n",
       "    </tr>\n",
       "  </thead>\n",
       "  <tbody>\n",
       "    <tr>\n",
       "      <th>5</th>\n",
       "      <td>4</td>\n",
       "      <td>1</td>\n",
       "      <td>41.916168</td>\n",
       "      <td>54.687500</td>\n",
       "      <td>33.980583</td>\n",
       "    </tr>\n",
       "    <tr>\n",
       "      <th>1</th>\n",
       "      <td>0</td>\n",
       "      <td>1</td>\n",
       "      <td>48.351648</td>\n",
       "      <td>55.696203</td>\n",
       "      <td>42.718447</td>\n",
       "    </tr>\n",
       "    <tr>\n",
       "      <th>0</th>\n",
       "      <td>0</td>\n",
       "      <td>0</td>\n",
       "      <td>51.020408</td>\n",
       "      <td>58.139535</td>\n",
       "      <td>45.454545</td>\n",
       "    </tr>\n",
       "    <tr>\n",
       "      <th>7</th>\n",
       "      <td>6</td>\n",
       "      <td>1</td>\n",
       "      <td>51.572327</td>\n",
       "      <td>73.214286</td>\n",
       "      <td>39.805825</td>\n",
       "    </tr>\n",
       "    <tr>\n",
       "      <th>6</th>\n",
       "      <td>6</td>\n",
       "      <td>0</td>\n",
       "      <td>56.818182</td>\n",
       "      <td>75.757576</td>\n",
       "      <td>45.454545</td>\n",
       "    </tr>\n",
       "    <tr>\n",
       "      <th>3</th>\n",
       "      <td>2</td>\n",
       "      <td>1</td>\n",
       "      <td>57.142857</td>\n",
       "      <td>60.215054</td>\n",
       "      <td>54.368932</td>\n",
       "    </tr>\n",
       "    <tr>\n",
       "      <th>4</th>\n",
       "      <td>4</td>\n",
       "      <td>0</td>\n",
       "      <td>57.943925</td>\n",
       "      <td>59.615385</td>\n",
       "      <td>56.363636</td>\n",
       "    </tr>\n",
       "    <tr>\n",
       "      <th>2</th>\n",
       "      <td>2</td>\n",
       "      <td>0</td>\n",
       "      <td>63.716814</td>\n",
       "      <td>62.068966</td>\n",
       "      <td>65.454545</td>\n",
       "    </tr>\n",
       "  </tbody>\n",
       "</table>\n",
       "</div>"
      ],
      "text/plain": [
       "   0  1          2          3          4\n",
       "5  4  1  41.916168  54.687500  33.980583\n",
       "1  0  1  48.351648  55.696203  42.718447\n",
       "0  0  0  51.020408  58.139535  45.454545\n",
       "7  6  1  51.572327  73.214286  39.805825\n",
       "6  6  0  56.818182  75.757576  45.454545\n",
       "3  2  1  57.142857  60.215054  54.368932\n",
       "4  4  0  57.943925  59.615385  56.363636\n",
       "2  2  0  63.716814  62.068966  65.454545"
      ]
     },
     "execution_count": 56,
     "metadata": {},
     "output_type": "execute_result"
    }
   ],
   "source": [
    "result_by_seeds"
   ]
  },
  {
   "cell_type": "code",
   "execution_count": null,
   "metadata": {},
   "outputs": [],
   "source": []
  }
 ],
 "metadata": {
  "kernelspec": {
   "display_name": "scispacy",
   "language": "python",
   "name": "scispacy"
  },
  "language_info": {
   "codemirror_mode": {
    "name": "ipython",
    "version": 3
   },
   "file_extension": ".py",
   "mimetype": "text/x-python",
   "name": "python",
   "nbconvert_exporter": "python",
   "pygments_lexer": "ipython3",
   "version": "3.9.4"
  }
 },
 "nbformat": 4,
 "nbformat_minor": 4
}
