{
 "cells": [
  {
   "cell_type": "code",
   "execution_count": 1,
   "metadata": {},
   "outputs": [],
   "source": [
    "import pickle\n",
    "import pandas as pd\n",
    "import os\n",
    "import openai\n",
    "import numpy as np\n",
    "import ipdb\n",
    "import re\n",
    "from tqdm import tqdm\n",
    "\n",
    "from transformers import GPT2Tokenizer\n",
    "tokenizer = GPT2Tokenizer.from_pretrained(\"gpt2\")\n",
    "import spacy\n",
    "import scipy\n",
    "\n",
    "nlp = spacy.load(\"en_core_web_sm\")\n",
    "openai.api_key= os.environ['OPENAI_KEY']\n",
    "\n",
    "from data_utils import *\n",
    "from gpt3_utils import *\n",
    "from eval_utils import *\n",
    "\n",
    "pd.set_option('max_rows',500,'max_colwidth',1000)"
   ]
  },
  {
   "cell_type": "code",
   "execution_count": 3,
   "metadata": {},
   "outputs": [],
   "source": [
    "#Loading BC5CDR Chemical and Disease Training Sets\n",
    "\n",
    "chemical_train = pd.read_csv('../data/bc5cdr_chemical.train.processed.tsv',sep='\\t')\n",
    "disease_train = pd.read_csv('../data/bc5cdr_disease.train.processed.tsv',sep='\\t')"
   ]
  },
  {
   "cell_type": "code",
   "execution_count": 4,
   "metadata": {},
   "outputs": [],
   "source": [
    "def get_entity_samples(df, num_entities):\n",
    "    \n",
    "    ent_samples = []\n",
    "    \n",
    "    for ents in df.entities:\n",
    "        \n",
    "        ent_samples.extend(eval(ents))\n",
    "        \n",
    "    return np.random.RandomState(42).permutation(ent_samples)[:num_entities]"
   ]
  },
  {
   "cell_type": "code",
   "execution_count": 5,
   "metadata": {},
   "outputs": [],
   "source": [
    "chemical_entity_samples = get_entity_samples(chemical_train, 5)\n",
    "disease_entity_samples = get_entity_samples(disease_train, 5)"
   ]
  },
  {
   "cell_type": "code",
   "execution_count": 6,
   "metadata": {},
   "outputs": [
    {
     "data": {
      "text/plain": [
       "(array(['bradykinin', 'cisapride', 'papaverine', 'glycosaminoglycan',\n",
       "        'morphine'], dtype='<U124'),\n",
       " array(['dyskinesia', 'poisoning', 'migraine', 'cerebral haemorrhage',\n",
       "        'gallbladder disease'], dtype='<U93'))"
      ]
     },
     "execution_count": 6,
     "metadata": {},
     "output_type": "execute_result"
    }
   ],
   "source": [
    "chemical_entity_samples, disease_entity_samples"
   ]
  },
  {
   "cell_type": "code",
   "execution_count": 7,
   "metadata": {},
   "outputs": [],
   "source": [
    "engine='davinci'"
   ]
  },
  {
   "cell_type": "code",
   "execution_count": 8,
   "metadata": {},
   "outputs": [],
   "source": [
    "def get_verbalization_candidates(engine, example_ents, example_ent_type, query_ents, num_candidates=5):\n",
    "\n",
    "    verbalizing_prompt_template = \"\"\"Phrases: {}\n",
    "\n",
    "    The previous phrases are all examples of {}.\n",
    "\n",
    "    Phrases: {}\n",
    "\n",
    "    The previous phrases are all examples of\"\"\"\n",
    "    \n",
    "    example_ents = ['\"{}\"'.format(e) for e in example_ents]\n",
    "    query_ents = ['\"{}\"'.format(e) for e in query_ents]\n",
    "    \n",
    "    verbalizing_prompt = verbalizing_prompt_template.format(example_ents, example_ent_type, query_ents)\n",
    "    print(verbalizing_prompt)\n",
    "    \n",
    "    filter_sample = openai.Completion.create(engine=engine,\n",
    "                                             prompt=verbalizing_prompt,\n",
    "                                             max_tokens=3,\n",
    "                                             top_p=0.8,\n",
    "                                             n=num_candidates,\n",
    "                                             best_of=num_candidates,\n",
    "                                             stop=[\".\", \"\\n\",\"<|endoftext|>\"])\n",
    "    \n",
    "    return [re.sub('[^a-z ]','',c['text'].lower().strip()) for c in filter_sample['choices']]"
   ]
  },
  {
   "cell_type": "code",
   "execution_count": 21,
   "metadata": {},
   "outputs": [
    {
     "name": "stdout",
     "output_type": "stream",
     "text": [
      "Phrases: ['\"bradykinin\"', '\"cisapride\"', '\"papaverine\"', '\"glycosaminoglycan\"', '\"morphine\"']\n",
      "\n",
      "    The previous phrases are all examples of drugs.\n",
      "\n",
      "    Phrases: ['\"dyskinesia\"', '\"poisoning\"', '\"migraine\"', '\"cerebral haemorrhage\"', '\"gallbladder disease\"']\n",
      "\n",
      "    The previous phrases are all examples of\n",
      "Phrases: ['\"bradykinin\"', '\"cisapride\"', '\"papaverine\"', '\"glycosaminoglycan\"', '\"morphine\"']\n",
      "\n",
      "    The previous phrases are all examples of chemicals.\n",
      "\n",
      "    Phrases: ['\"dyskinesia\"', '\"poisoning\"', '\"migraine\"', '\"cerebral haemorrhage\"', '\"gallbladder disease\"']\n",
      "\n",
      "    The previous phrases are all examples of\n",
      "Phrases: ['\"bradykinin\"', '\"cisapride\"', '\"papaverine\"', '\"glycosaminoglycan\"', '\"morphine\"']\n",
      "\n",
      "    The previous phrases are all examples of medications.\n",
      "\n",
      "    Phrases: ['\"dyskinesia\"', '\"poisoning\"', '\"migraine\"', '\"cerebral haemorrhage\"', '\"gallbladder disease\"']\n",
      "\n",
      "    The previous phrases are all examples of\n"
     ]
    },
    {
     "data": {
      "text/plain": [
       "{'conditions',\n",
       " 'diseases',\n",
       " 'disorders',\n",
       " 'health conditions',\n",
       " 'medical conditions',\n",
       " 'symptoms'}"
      ]
     },
     "execution_count": 21,
     "metadata": {},
     "output_type": "execute_result"
    }
   ],
   "source": [
    "disease_candidates = []\n",
    "\n",
    "for drug_name in ['drugs','chemicals','medications']:\n",
    "    disease_candidates.extend(get_verbalization_candidates(engine,chemical_entity_samples, drug_name, disease_entity_samples))\n",
    "    \n",
    "disease_candidates = set(disease_candidates)\n",
    "\n",
    "disease_candidates"
   ]
  },
  {
   "cell_type": "code",
   "execution_count": 30,
   "metadata": {},
   "outputs": [],
   "source": [
    "#Curated list of best candidates retrieved\n",
    "disease_candidates = {'conditions',\n",
    " 'diseases',\n",
    " 'health conditions',\n",
    " 'health issues',\n",
    " 'health problems',\n",
    " 'medical conditions',\n",
    " 'medical problems',\n",
    "                      'disorders','symptoms'}\n",
    "\n",
    "disease_candidates = {\n",
    " 'diseases',\n",
    " 'health conditions',\n",
    " 'health issues',\n",
    "    'disorders','symptoms'}"
   ]
  },
  {
   "cell_type": "code",
   "execution_count": null,
   "metadata": {},
   "outputs": [],
   "source": [
    "# chemical_candidates = []\n",
    "\n",
    "# for disease_name in ['diseases','symptoms','medical conditions']:\n",
    "#     chemical_candidates.extend(get_verbalization_candidates(engine, disease_entity_samples, disease_name, chemical_entity_samples))\n",
    "    \n",
    "# chemical_candidates = set(chemical_candidates)\n",
    "# chemical_candidates"
   ]
  },
  {
   "cell_type": "code",
   "execution_count": null,
   "metadata": {},
   "outputs": [],
   "source": [
    "#Curated list of best candidates retrieved\n",
    "chemical_candidates = {'chemicals',\n",
    " 'drugs',\n",
    " 'medications',\n",
    " 'medicines',\n",
    " 'pharmacological agents'}"
   ]
  },
  {
   "cell_type": "code",
   "execution_count": 31,
   "metadata": {},
   "outputs": [],
   "source": [
    "train_half1 = disease_train[0:int(len(disease_train)/2)]\n",
    "train_half2 = disease_train[int(len(disease_train)/2):]\n",
    "\n",
    "train_half2 = train_half2.sample(frac=1, random_state=np.random.RandomState(1))\n",
    "    \n",
    "dev_data = create_prompt_dataset(train_half1, train_half2, 42, 5, 50, 'random')"
   ]
  },
  {
   "cell_type": "code",
   "execution_count": 32,
   "metadata": {},
   "outputs": [],
   "source": [
    "def select_verbalized_from_candidates(engine, dev_data, candidates, default_entity_name):\n",
    "    dev_df = dev_data['test_df']\n",
    "    prompts = dev_df.test_ready_prompt.values\n",
    "    \n",
    "    result_by_cand = []\n",
    "    \n",
    "    print(candidates)\n",
    "    \n",
    "    for candidate in candidates:\n",
    "\n",
    "        altered_prompts = [p.replace('{}:'.format(default_entity_name) ,candidate[0].upper()+candidate[1:]+':') for p in prompts]\n",
    "        result_df = run_gpt3_on_df(engine, dev_df, altered_prompts, max_tokens=30, sep=dev_data['sep'], logit_bias=10, sep_logit_bias=10, new_line_logit_bias=10)\n",
    "\n",
    "        df = create_bio_preds(result_df, \"predictions\")\n",
    "        f1, precision, recall = conlleval_eval(df.ner_seq,df.bio_preds)\n",
    "\n",
    "        result_by_cand.append((candidate, f1, precision, recall, altered_prompts[0]))\n",
    "        \n",
    "    return pd.DataFrame(result_by_cand)"
   ]
  },
  {
   "cell_type": "code",
   "execution_count": 33,
   "metadata": {},
   "outputs": [
    {
     "name": "stdout",
     "output_type": "stream",
     "text": [
      "Sentence: Lithium remains a first - line treatment for the acute and maintenance treatment of bipolar disorder .\n",
      "Diseases: bipolar disorder\n",
      "\n",
      "Sentence: The other rats showed a strong decrease in the rigidity and the occurrence of stereotyped ( S ) licking and / or gnawing in presence of akinetic or hyperkinetic ( K ) behaviour ( AS / KS group ) , suggesting signs of dopaminergic activation .\n",
      "Diseases: rigidity, akinetic, hyperkinetic\n",
      "\n",
      "Sentence: Blood pressure response to chronic low - dose intrarenal noradrenaline infusion in conscious rats .\n",
      "Diseases: \n",
      "\n",
      "Sentence: Male Wistar rats were challenged intragastrically once daily for 9 days with 1 . 0 ml / kg of corn oil containing vitamin D2 and cholesterol to induce atherosclerosis .\n",
      "Diseases: atherosclerosis\n",
      "\n",
      "Sentence: At diagnosis there was no significant difference in OD between HIT patients with thrombosis and those with isolated - HIT .\n",
      "Diseases: hit, thrombosis\n",
      "\n",
      "Sentence: METHODS : We present the first case report of a woman with hyperthyroidism treated with propylthiouracil in whom a syndrome of pericarditis , fever , and glomerulonephritis developed .\n",
      "Diseases:\n"
     ]
    }
   ],
   "source": [
    "print(dev_data['test_df'].test_ready_prompt.values[0])"
   ]
  },
  {
   "cell_type": "code",
   "execution_count": 34,
   "metadata": {},
   "outputs": [
    {
     "data": {
      "text/plain": [
       "{'diseases', 'disorders', 'health conditions', 'health issues', 'symptoms'}"
      ]
     },
     "execution_count": 34,
     "metadata": {},
     "output_type": "execute_result"
    }
   ],
   "source": [
    "disease_candidates"
   ]
  },
  {
   "cell_type": "code",
   "execution_count": 35,
   "metadata": {},
   "outputs": [
    {
     "name": "stderr",
     "output_type": "stream",
     "text": [
      "\r",
      "0it [00:00, ?it/s]"
     ]
    },
    {
     "name": "stdout",
     "output_type": "stream",
     "text": [
      "{'health issues', 'health conditions', 'diseases', 'disorders', 'symptoms'}\n"
     ]
    },
    {
     "name": "stderr",
     "output_type": "stream",
     "text": [
      "50it [00:27,  1.79it/s]\n",
      "0it [00:00, ?it/s]"
     ]
    },
    {
     "name": "stdout",
     "output_type": "stream",
     "text": [
      "processed 1470 tokens with 57 phrases; found: 110 phrases; correct: 29.\n",
      "accuracy:  90.14%; (non-O)\n",
      "accuracy:  90.14%; precision:  26.36%; recall:  50.88%; FB1:  34.73%\n",
      "                X: precision:  26.36%; recall:  50.88%; FB1:  34.73%  110\n"
     ]
    },
    {
     "name": "stderr",
     "output_type": "stream",
     "text": [
      "50it [00:26,  1.87it/s]\n",
      "0it [00:00, ?it/s]"
     ]
    },
    {
     "name": "stdout",
     "output_type": "stream",
     "text": [
      "processed 1470 tokens with 57 phrases; found: 101 phrases; correct: 32.\n",
      "accuracy:  90.68%; (non-O)\n",
      "accuracy:  90.68%; precision:  31.68%; recall:  56.14%; FB1:  40.51%\n",
      "                X: precision:  31.68%; recall:  56.14%; FB1:  40.51%  101\n"
     ]
    },
    {
     "name": "stderr",
     "output_type": "stream",
     "text": [
      "50it [00:26,  1.87it/s]\n",
      "0it [00:00, ?it/s]"
     ]
    },
    {
     "name": "stdout",
     "output_type": "stream",
     "text": [
      "processed 1470 tokens with 57 phrases; found: 91 phrases; correct: 31.\n",
      "accuracy:  92.04%; (non-O)\n",
      "accuracy:  92.04%; precision:  34.07%; recall:  54.39%; FB1:  41.89%\n",
      "                X: precision:  34.07%; recall:  54.39%; FB1:  41.89%  91\n"
     ]
    },
    {
     "name": "stderr",
     "output_type": "stream",
     "text": [
      "50it [00:26,  1.86it/s]\n",
      "0it [00:00, ?it/s]"
     ]
    },
    {
     "name": "stdout",
     "output_type": "stream",
     "text": [
      "processed 1470 tokens with 57 phrases; found: 105 phrases; correct: 34.\n",
      "accuracy:  91.84%; (non-O)\n",
      "accuracy:  91.84%; precision:  32.38%; recall:  59.65%; FB1:  41.98%\n",
      "                X: precision:  32.38%; recall:  59.65%; FB1:  41.98%  105\n"
     ]
    },
    {
     "name": "stderr",
     "output_type": "stream",
     "text": [
      "50it [00:27,  1.85it/s]"
     ]
    },
    {
     "name": "stdout",
     "output_type": "stream",
     "text": [
      "processed 1470 tokens with 57 phrases; found: 109 phrases; correct: 35.\n",
      "accuracy:  90.34%; (non-O)\n",
      "accuracy:  90.34%; precision:  32.11%; recall:  61.40%; FB1:  42.17%\n",
      "                X: precision:  32.11%; recall:  61.40%; FB1:  42.17%  109\n"
     ]
    },
    {
     "name": "stderr",
     "output_type": "stream",
     "text": [
      "\n"
     ]
    }
   ],
   "source": [
    "disease_experiment_results = select_verbalized_from_candidates('davinci', dev_data, disease_candidates, 'Diseases')"
   ]
  },
  {
   "cell_type": "code",
   "execution_count": 36,
   "metadata": {},
   "outputs": [
    {
     "data": {
      "text/html": [
       "<div>\n",
       "<style scoped>\n",
       "    .dataframe tbody tr th:only-of-type {\n",
       "        vertical-align: middle;\n",
       "    }\n",
       "\n",
       "    .dataframe tbody tr th {\n",
       "        vertical-align: top;\n",
       "    }\n",
       "\n",
       "    .dataframe thead th {\n",
       "        text-align: right;\n",
       "    }\n",
       "</style>\n",
       "<table border=\"1\" class=\"dataframe\">\n",
       "  <thead>\n",
       "    <tr style=\"text-align: right;\">\n",
       "      <th></th>\n",
       "      <th>0</th>\n",
       "      <th>1</th>\n",
       "      <th>2</th>\n",
       "      <th>3</th>\n",
       "    </tr>\n",
       "  </thead>\n",
       "  <tbody>\n",
       "    <tr>\n",
       "      <th>0</th>\n",
       "      <td>health issues</td>\n",
       "      <td>34.730539</td>\n",
       "      <td>26.363636</td>\n",
       "      <td>50.877193</td>\n",
       "    </tr>\n",
       "    <tr>\n",
       "      <th>1</th>\n",
       "      <td>health conditions</td>\n",
       "      <td>40.506329</td>\n",
       "      <td>31.683168</td>\n",
       "      <td>56.140351</td>\n",
       "    </tr>\n",
       "    <tr>\n",
       "      <th>2</th>\n",
       "      <td>diseases</td>\n",
       "      <td>41.891892</td>\n",
       "      <td>34.065934</td>\n",
       "      <td>54.385965</td>\n",
       "    </tr>\n",
       "    <tr>\n",
       "      <th>3</th>\n",
       "      <td>disorders</td>\n",
       "      <td>41.975309</td>\n",
       "      <td>32.380952</td>\n",
       "      <td>59.649123</td>\n",
       "    </tr>\n",
       "    <tr>\n",
       "      <th>4</th>\n",
       "      <td>symptoms</td>\n",
       "      <td>42.168675</td>\n",
       "      <td>32.110092</td>\n",
       "      <td>61.403509</td>\n",
       "    </tr>\n",
       "  </tbody>\n",
       "</table>\n",
       "</div>"
      ],
      "text/plain": [
       "                   0          1          2          3\n",
       "0      health issues  34.730539  26.363636  50.877193\n",
       "1  health conditions  40.506329  31.683168  56.140351\n",
       "2           diseases  41.891892  34.065934  54.385965\n",
       "3          disorders  41.975309  32.380952  59.649123\n",
       "4           symptoms  42.168675  32.110092  61.403509"
      ]
     },
     "execution_count": 36,
     "metadata": {},
     "output_type": "execute_result"
    }
   ],
   "source": [
    "disease_experiment_results[[0,1,2,3]]"
   ]
  },
  {
   "cell_type": "code",
   "execution_count": 29,
   "metadata": {},
   "outputs": [
    {
     "name": "stdout",
     "output_type": "stream",
     "text": [
      "Sentence: Lithium remains a first - line treatment for the acute and maintenance treatment of bipolar disorder .\n",
      "Symptoms: bipolar disorder\n",
      "\n",
      "Sentence: The other rats showed a strong decrease in the rigidity and the occurrence of stereotyped ( S ) licking and / or gnawing in presence of akinetic or hyperkinetic ( K ) behaviour ( AS / KS group ) , suggesting signs of dopaminergic activation .\n",
      "Symptoms: rigidity, akinetic, hyperkinetic\n",
      "\n",
      "Sentence: Blood pressure response to chronic low - dose intrarenal noradrenaline infusion in conscious rats .\n",
      "Symptoms: \n",
      "\n",
      "Sentence: Male Wistar rats were challenged intragastrically once daily for 9 days with 1 . 0 ml / kg of corn oil containing vitamin D2 and cholesterol to induce atherosclerosis .\n",
      "Symptoms: atherosclerosis\n",
      "\n",
      "Sentence: At diagnosis there was no significant difference in OD between HIT patients with thrombosis and those with isolated - HIT .\n",
      "Symptoms: hit, thrombosis\n",
      "\n",
      "Sentence: The site of common side effects of sumatriptan .\n",
      "Symptoms:\n"
     ]
    }
   ],
   "source": [
    "print(disease_experiment_results[4].values[0])"
   ]
  },
  {
   "cell_type": "code",
   "execution_count": null,
   "metadata": {},
   "outputs": [],
   "source": []
  }
 ],
 "metadata": {
  "kernelspec": {
   "display_name": "scispacy",
   "language": "python",
   "name": "scispacy"
  },
  "language_info": {
   "codemirror_mode": {
    "name": "ipython",
    "version": 3
   },
   "file_extension": ".py",
   "mimetype": "text/x-python",
   "name": "python",
   "nbconvert_exporter": "python",
   "pygments_lexer": "ipython3",
   "version": "3.9.4"
  }
 },
 "nbformat": 4,
 "nbformat_minor": 4
}
