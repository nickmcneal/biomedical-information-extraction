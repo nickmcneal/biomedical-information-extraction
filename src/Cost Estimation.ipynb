{
 "cells": [
  {
   "cell_type": "code",
   "execution_count": 1,
   "metadata": {},
   "outputs": [],
   "source": [
    "import pickle\n",
    "import pandas as pd\n",
    "import os\n",
    "from transformers import GPT2Tokenizer\n",
    "import openai\n",
    "import numpy as np\n",
    "import ipdb\n",
    "import re\n",
    "import tqdm\n",
    "\n",
    "tokenizer = GPT2Tokenizer.from_pretrained(\"gpt2\")"
   ]
  },
  {
   "cell_type": "code",
   "execution_count": 3,
   "metadata": {},
   "outputs": [],
   "source": [
    "df = pickle.load(open('../data/bc5cdr_chemical_test_prompts_random_42.5.200., ','rb'))"
   ]
  },
  {
   "cell_type": "code",
   "execution_count": 5,
   "metadata": {},
   "outputs": [],
   "source": [
    "df = df['test_df']"
   ]
  },
  {
   "cell_type": "code",
   "execution_count": 11,
   "metadata": {},
   "outputs": [],
   "source": [
    "total_prompt_tokens = 0\n",
    "\n",
    "for prompt in df.test_ready_prompt:\n",
    "    \n",
    "    prompt_ids = tokenizer.encode(prompt)\n",
    "    total_prompt_tokens += len(prompt_ids) + 10"
   ]
  },
  {
   "cell_type": "code",
   "execution_count": 12,
   "metadata": {},
   "outputs": [
    {
     "name": "stdout",
     "output_type": "stream",
     "text": [
      "Davinci Cost for 49485 Tokens: $2.9690999999999996\n"
     ]
    }
   ],
   "source": [
    "davinci_per_token = 0.06/1000\n",
    "\n",
    "print('Davinci Cost for {} Tokens: ${}'.format(total_prompt_tokens, davinci_per_token*total_prompt_tokens))"
   ]
  },
  {
   "cell_type": "code",
   "execution_count": null,
   "metadata": {},
   "outputs": [],
   "source": []
  }
 ],
 "metadata": {
  "kernelspec": {
   "display_name": "scispacy",
   "language": "python",
   "name": "scispacy"
  },
  "language_info": {
   "codemirror_mode": {
    "name": "ipython",
    "version": 3
   },
   "file_extension": ".py",
   "mimetype": "text/x-python",
   "name": "python",
   "nbconvert_exporter": "python",
   "pygments_lexer": "ipython3",
   "version": "3.9.4"
  }
 },
 "nbformat": 4,
 "nbformat_minor": 4
}
